{
 "cells": [
  {
   "cell_type": "code",
   "execution_count": 1,
   "metadata": {},
   "outputs": [],
   "source": [
    "import re"
   ]
  },
  {
   "cell_type": "code",
   "execution_count": 2,
   "metadata": {},
   "outputs": [],
   "source": [
    "ingredients=['Ambrette Seed',\n",
    "'Apple Cinnamon Granola',\n",
    "'Arizona Seasoning',\n",
    "'Americano Coffee',\n",
    "'Baby Abalone',\n",
    "'Cadbury Double Decker Chocolate Bar',\n",
    "'Campari Tomato',\n",
    "'Celery Soup',\n",
    "'Chia Meal',\n",
    "'Crunch Bars',\n",
    "'Cardamom',\n",
    "'Giardiniera',\n",
    "'Hog Maw',\n",
    "'Mccormick Montreal Steak Seasoning',\n",
    "'Muesli',\n",
    "'Mulberry',\n",
    "'Munch Chocolate',\n",
    "'Murukku Packet',\n",
    "'Mango',\n",
    "'Organic Maize',\n",
    "'Organic Peruvian Groundcherry',\n",
    "'Organic Tartar Cream',\n",
    "'Orange Extract',\n",
    "'Pickled Cauliflower',\n",
    "'Pork Chump Chops',\n",
    "'Pork Lungs',\n",
    "'Pork Tripe',\n",
    "'Peanut Butter',\n",
    "'Smokies Sausage',\n",
    "'Snickers Spread',\n",
    "'Strawberry Gelatin',\n",
    "'Salmon'\n",
    "'Tomato',\n",
    "'Tamarind',\n",
    "'Vegan Carob Chips',\n",
    "'Vegan Chicken Strips',\n",
    "'Vegan Chorizo',\n",
    "'Vegan Marshmallow',\n",
    "'Vegan Puff Pastry Sheet',\n",
    "'Vegan Semisweet Chocolate Chips',\n",
    "'Vegan White Cake',\n",
    "'Vegetable Stock',\n",
    "'Vinegar']"
   ]
  },
  {
   "cell_type": "code",
   "execution_count": 3,
   "metadata": {},
   "outputs": [
    {
     "data": {
      "text/plain": [
       "42"
      ]
     },
     "execution_count": 3,
     "metadata": {},
     "output_type": "execute_result"
    }
   ],
   "source": [
    "len(ingredients)                                                                                                    "
   ]
  },
  {
   "cell_type": "markdown",
   "metadata": {},
   "source": [
    "Splitting Ingredients into Groups"
   ]
  },
  {
   "cell_type": "code",
   "execution_count": 4,
   "metadata": {},
   "outputs": [],
   "source": [
    "ing={}"
   ]
  },
  {
   "cell_type": "markdown",
   "metadata": {},
   "source": [
    "Vegan"
   ]
  },
  {
   "cell_type": "code",
   "execution_count": 5,
   "metadata": {},
   "outputs": [],
   "source": [
    "vegan = [i for i in ingredients if 'Vegan' in i]\n",
    "ing['vegan']=vegan"
   ]
  },
  {
   "cell_type": "markdown",
   "metadata": {},
   "source": [
    "Non-Vegetarian"
   ]
  },
  {
   "cell_type": "code",
   "execution_count": 6,
   "metadata": {},
   "outputs": [],
   "source": [
    "nvg = [i for i in ingredients if 'Pork' in i]\n",
    "nvg.append('Salmon')\n",
    "nvg.append('Smokies Sausage')\n",
    "nvg.append('Mccormick Montreal Steak Seasoning')\n",
    "nvg.append('Hog Maw')\n",
    "ing['nvg']=nvg"
   ]
  },
  {
   "cell_type": "markdown",
   "metadata": {},
   "source": [
    "Seeds"
   ]
  },
  {
   "cell_type": "code",
   "execution_count": 7,
   "metadata": {},
   "outputs": [],
   "source": [
    "seed=[i for i in ingredients if 'Seed' in i]\n",
    "seed.append('Cardamom')\n",
    "seed.append('Chia Meal')\n",
    "ing['seed']=seed"
   ]
  },
  {
   "cell_type": "markdown",
   "metadata": {},
   "source": [
    "Grains"
   ]
  },
  {
   "cell_type": "code",
   "execution_count": 8,
   "metadata": {},
   "outputs": [],
   "source": [
    "grains=['Apple Cinnamon Granola','Organic Maize','Museli']\n",
    "ing['grains']=grains"
   ]
  },
  {
   "cell_type": "markdown",
   "metadata": {},
   "source": [
    "Fruits"
   ]
  },
  {
   "cell_type": "code",
   "execution_count": 9,
   "metadata": {},
   "outputs": [],
   "source": [
    "fruits=['Campari Tomato','Mango','Tomato','Organic Peruvian Groundcherry','Orange Extract','Mulberry','Tamarind']\n",
    "ing['fruits']=fruits"
   ]
  },
  {
   "cell_type": "markdown",
   "metadata": {},
   "source": [
    "Vegetables"
   ]
  },
  {
   "cell_type": "code",
   "execution_count": 10,
   "metadata": {},
   "outputs": [],
   "source": [
    "veg=['Celery Soup','Giardiniera','Vegetable Stock','Pickled Cauliflower']\n",
    "ing['veg']=veg"
   ]
  },
  {
   "cell_type": "markdown",
   "metadata": {},
   "source": [
    "Condiments"
   ]
  },
  {
   "cell_type": "code",
   "execution_count": 11,
   "metadata": {},
   "outputs": [],
   "source": [
    "con=['Peanut Butter','Strawberry Gelatin','Snickers Spread','Vinegar','Organic Tartar Cream','Mccormick Montreal Steak Seasoning']\n",
    "ing['con']=con"
   ]
  },
  {
   "cell_type": "markdown",
   "metadata": {},
   "source": [
    "Snacks"
   ]
  },
  {
   "cell_type": "code",
   "execution_count": 12,
   "metadata": {},
   "outputs": [],
   "source": [
    "sna=['Cadbury Double Decker Chocolate Bar','Munch Chocolate','Murukku Packet','Americano Coffee','Crunch Bars',]\n",
    "ing['sna']=sna"
   ]
  },
  {
   "cell_type": "markdown",
   "metadata": {},
   "source": [
    "All Ingredients"
   ]
  },
  {
   "cell_type": "code",
   "execution_count": 28,
   "metadata": {},
   "outputs": [],
   "source": [
    "ding={}\n",
    "for i in ing:\n",
    "    for j in ing[i]:\n",
    "        ding[j]=0"
   ]
  },
  {
   "cell_type": "code",
   "execution_count": 29,
   "metadata": {},
   "outputs": [
    {
     "data": {
      "text/plain": [
       "{'Vegan Carob Chips': 0,\n",
       " 'Vegan Chicken Strips': 0,\n",
       " 'Vegan Chorizo': 0,\n",
       " 'Vegan Marshmallow': 0,\n",
       " 'Vegan Puff Pastry Sheet': 0,\n",
       " 'Vegan Semisweet Chocolate Chips': 0,\n",
       " 'Vegan White Cake': 0,\n",
       " 'Pork Chump Chops': 0,\n",
       " 'Pork Lungs': 0,\n",
       " 'Pork Tripe': 0,\n",
       " 'Salmon': 0,\n",
       " 'Smokies Sausage': 0,\n",
       " 'Mccormick Montreal Steak Seasoning': 0,\n",
       " 'Hog Maw': 0,\n",
       " 'Ambrette Seed': 0,\n",
       " 'Cardamom': 0,\n",
       " 'Chia Meal': 0,\n",
       " 'Apple Cinnamon Granola': 0,\n",
       " 'Organic Maize': 0,\n",
       " 'Museli': 0,\n",
       " 'Campari Tomato': 0,\n",
       " 'Mango': 0,\n",
       " 'Tomato': 0,\n",
       " 'Organic Peruvian Groundcherry': 0,\n",
       " 'Orange Extract': 0,\n",
       " 'Mulberry': 0,\n",
       " 'Tamarind': 0,\n",
       " 'Celery Soup': 0,\n",
       " 'Giardiniera': 0,\n",
       " 'Vegetable Stock': 0,\n",
       " 'Pickled Cauliflower': 0,\n",
       " 'Peanut Butter': 0,\n",
       " 'Strawberry Gelatin': 0,\n",
       " 'Snickers Spread': 0,\n",
       " 'Vinegar': 0,\n",
       " 'Organic Tartar Cream': 0,\n",
       " 'Cadbury Double Decker Chocolate Bar': 0,\n",
       " 'Munch Chocolate': 0,\n",
       " 'Murukku Packet': 0,\n",
       " 'Americano Coffee': 0,\n",
       " 'Crunch Bars': 0}"
      ]
     },
     "execution_count": 29,
     "metadata": {},
     "output_type": "execute_result"
    }
   ],
   "source": [
    "ding"
   ]
  },
  {
   "cell_type": "markdown",
   "metadata": {},
   "source": [
    "Assigning Frequencies"
   ]
  },
  {
   "cell_type": "code",
   "execution_count": 13,
   "metadata": {},
   "outputs": [],
   "source": [
    "# article = '''munchbox meals munchbox is a geelong-based boutique meal prep and delivery service,\n",
    "# specialising in artisan vegan and vegetarian meals and munchies. with a passion for\n",
    "# providing delicious and nutritious food that is ethical, sustainable and affordable, all\n",
    "# munchbox meals are made from scratch using a balance of the freshest local and organic\n",
    "# vegetables and fruit, grains, seeds and nuts and homegrown herbs. we chat to eden callick -\n",
    "# the brains behind the business - about all things munchbox. hey! thanks for chatting to forte!\n",
    "# first up, can you explain how munchbox became to be? munchbox was a daydream turned\n",
    "# reality. i was in a really draining job i hated, and would spend the majority of my lunch-break\n",
    "# looking for vegan food. the struggle to find a tasty, good quality, vegan meal is real.\n",
    "# sometimes it was so real i d just give up looking, and go hungry. one day i hungrily and\n",
    "# jokingly announced, i m going to open my own vegan food business  and with that impulsive\n",
    "# announcement, i quit my job almost immediately, and promised myself i would put my whole\n",
    "# heart and soul in to becoming the best vegan chef i can be. with a whole lot of determination,\n",
    "# passion and support from those around me, munchbox was born and is now my baby! i\n",
    "# guess a little bit of selfishness for me to have passion and purpose in life, as well as the lack\n",
    "# of real quality vegan cuisine on the geelong food scene is really how munchbox came to be\n",
    "# - out of necessity. where did your passion for vegan/vegetarian food come from? i ve always\n",
    "# had a love and passion for food, but it wasn t until i slowly transitioned to vegan that my\n",
    "# passion turned into a true obsession! it opened a whole new door for experimentation in the\n",
    "# kitchen; i want to create cruelty free food that tastes and looks better, but most importantly is\n",
    "# better for you! nothing makes me happier then feeding people and changing their views on\n",
    "# vegan food. can you give our readers a run-down of how  munchbox  works? munchbox is\n",
    "# an artisan meal prep and delivery service, providing chef made meals to you. our munchers\n",
    "# can order online any time before friday midnight, with meals being ready for pick-up or\n",
    "# delivery on sunday. ready for the week ahead! these hours will soon be changing to include\n",
    "# 24/7 online ordering, with pick-up and delivery between 7am-7pm seven days a week. all\n",
    "# meals come ready to eat or heat; those that are best enjoyed heated include a lit flame! we\n",
    "# also specialise in events and corporate catering; so, if there s a bunch that s got the munch,\n",
    "# we re here to feed your sweet souls! where have you gathered most of your recipes and\n",
    "# ideas from? i m constantly gathering ideas and inspiration from anywhere and everywhere! i\n",
    "# have a collection of paper scraps with scribbled recipes, and sleep with a notebook next to\n",
    "# my bed just in case i dream up a new idea. i have mood-boards, and future menu lists. it s a\n",
    "# mess really! i find so much inspiration and ideas from traditional non-vegan meals, and have\n",
    "# been fortunate enough to work alongside some amazing non-vegan chefs who have (taught)\n",
    "# and inspired me incredibly. my mumma and sister, who are huge vegan foodies, are always\n",
    "# coming up with insane recipes for me as well. but each recipe is ultimately my own, made\n",
    "# from scratch, tried and tested until it s perfected. how do you determine what local and\n",
    "# organic ingredients make the cut? we are passionately committed to sustainability and\n",
    "# supporting our local community. our menus are always based around the freshest seasonal\n",
    "# produce, sourced from local organic farmers, as well as other artisan vegan businesses who\n",
    "# supply some of our ingredients. we also lovingly grow all our own herbs, and as munchbox\n",
    "# expands so will our veggie garden; to include some pretty crazy exotic fruit and vege! what\n",
    "# type of people does this service suit? munchbox is perfect for those who are time poor, but\n",
    "# hungry, and care what they put in to their body. looking for a delicious and nutritious meal,\n",
    "# that isn t frozen or full of crap. we put all the freshness, flavour, love and care into each meal,\n",
    "# so you don t have to! breaky, lunch, or tea, pick up or delivery, we ve got you covered so you\n",
    "# don t have to think about cooking a thing! munchbox isn t exclusively for vegetarians or\n",
    "# vegans, but is perfect for those looking to try a tasty healthy alternative! do you do custom\n",
    "# orders? or is everything off the set menu? yes! all our meals are fully customisable to suit\n",
    "# diet and taste! don t like tomato? just let us know! gluten intolerant? we got you! you can add\n",
    "# or remove any ingredients and extras in our meals when you order. however, if you d like our\n",
    "# chefs to create something extra special just for you, we re more than happy to! we can\n",
    "# customise personalised menus, meal plans and munchboxes just for you! where are you\n",
    "# hoping to take munchbox in future? munchbox has big plans for the future! you can expect\n",
    "# an ever-changing menu (to keep up with my ever-changing mind). we ll be incorporating\n",
    "# menulog and uber eats as apart of our service, and expanding trading hours and service\n",
    "# locations in the very near future. there may also be plans for  munch mobile  to attend\n",
    "# festivals, markets, and events.. but i can t give too much away! we have sooo many\n",
    "# surprises for ya ll, but i can t spoil them all at once! check it out via insta @vegan.munchbox\n",
    "# or you can get your munch on at munchboxmeals.com.au'''\n"
   ]
  },
  {
   "cell_type": "markdown",
   "metadata": {},
   "source": [
    "Importing Article"
   ]
  },
  {
   "cell_type": "code",
   "execution_count": 14,
   "metadata": {},
   "outputs": [],
   "source": [
    "article='''munchbox meals munchbox is a geelong-based boutique meal prep and delivery service,\n",
    "specialising in artisan vegan and vegetarian meals and munchies. with a passion for\n",
    "providing delicious and nutritious food that is ethical, sustainable and affordable, all\n",
    "munchbox meals are made from scratch using a balance of the freshest local and organic\n",
    "vegetables and fruit, grains, seeds and nuts and homegrown herbs. we chat to eden callick –\n",
    "the brains behind the business – about all things munchbox. hey! thanks for chatting to forte!\n",
    "first up, can you explain how munchbox became to be? munchbox was a daydream turned\n",
    "reality. i was in a really draining job i hated, and would spend the majority of my lunch-break\n",
    "looking for vegan food. the struggle to find a tasty, good quality, vegan meal is real.\n",
    "sometimes it was so real i’d just give up looking, and go hungry. one day i hungrily and\n",
    "jokingly announced, ‘i’m going to open my own vegan food business’ and with that impulsive\n",
    "announcement, i quit my job almost immediately, and promised myself i would put my whole\n",
    "heart and soul in to becoming the best vegan chef i can be. with a whole lot of determination,\n",
    "passion and support from those around me, munchbox was born and is now my baby! i\n",
    "guess a little bit of selfishness for me to have passion and purpose in life, as well as the lack\n",
    "of real quality vegan cuisine on the geelong food scene is really how munchbox came to be\n",
    "– out of necessity. where did your passion for vegan/vegetarian food come from? i’ve always\n",
    "had a love and passion for food, but it wasn’t until i slowly transitioned to vegan that my\n",
    "passion turned into a true obsession! it opened a whole new door for experimentation in the\n",
    "kitchen; i want to create cruelty free food that tastes and looks better, but most importantly is\n",
    "better for you! nothing makes me happier then feeding people and changing their views on\n",
    "vegan food. can you give our readers a run-down of how ‘munchbox’ works? munchbox is\n",
    "an artisan meal prep and delivery service, providing chef made meals to you. our munchers\n",
    "can order online any time before friday midnight, with meals being ready for pick-up or\n",
    "delivery on sunday. ready for the week ahead! these hours will soon be changing to include\n",
    "24/7 online ordering, with pick-up and delivery between 7am-7pm seven days a week. all\n",
    "meals come ready to eat or heat; those that are best enjoyed heated include a lit flame! we\n",
    "also specialise in events and corporate catering; so, if there’s a bunch that’s got the munch,\n",
    "we’re here to feed your sweet souls! where have you gathered most of your recipes and\n",
    "ideas from? i’m constantly gathering ideas and inspiration from anywhere and everywhere! i\n",
    "have a collection of paper scraps with scribbled recipes, and sleep with a notebook next to\n",
    "my bed just in case i dream up a new idea. i have mood-boards, and future menu lists. it’s a\n",
    "mess really! i find so much inspiration and ideas from traditional non-vegan meals, and have\n",
    "been fortunate enough to work alongside some amazing non-vegan chefs who have (taught)\n",
    "and inspired me incredibly. my mumma and sister, who are huge vegan foodies, are always\n",
    "coming up with insane recipes for me as well. but each recipe is ultimately my own, made\n",
    "from scratch, tried and tested until it’s perfected. how do you determine what local and\n",
    "organic ingredients make the cut? we are passionately committed to sustainability and\n",
    "supporting our local community. our menus are always based around the freshest seasonal\n",
    "produce, sourced from local organic farmers, as well as other artisan vegan businesses who\n",
    "supply some of our ingredients. we also lovingly grow all our own herbs, and as munchbox\n",
    "expands so will our veggie garden; to include some pretty crazy exotic fruit and vege! what\n",
    "type of people does this service suit? munchbox is perfect for those who are time poor, but\n",
    "hungry, and care what they put in to their body. looking for a delicious and nutritious meal,\n",
    "that isn’t frozen or full of crap. we put all the freshness, flavour, love and care into each meal,\n",
    "so you don’t have to! breaky, lunch, or tea, pick up or delivery, we’ve got you covered so you\n",
    "don’t have to think about cooking a thing! munchbox isn’t exclusively for vegetarians or\n",
    "vegans, but is perfect for those looking to try a tasty healthy alternative! do you do custom\n",
    "orders? or is everything off the set menu? yes! all our meals are fully customisable to suit\n",
    "diet and taste! don’t like tomato? just let us know! gluten intolerant? we got you! you can add\n",
    "or remove any ingredients and extras in our meals when you order. however, if you’d like our\n",
    "chefs to create something extra special just for you, we’re more than happy to! we can\n",
    "customise personalised menus, meal plans and munchboxes just for you! where are you\n",
    "hoping to take munchbox in future? munchbox has big plans for the future! you can expect\n",
    "an ever-changing menu (to keep up with my ever-changing mind). we’ll be incorporating\n",
    "menulog and uber eats as apart of our service, and expanding trading hours and service\n",
    "locations in the very near future. there may also be plans for ‘munch mobile’ to attend\n",
    "festivals, markets, and events.. but i can’t give too much away! we have sooo many\n",
    "surprises for ya’ll, but i can’t spoil them all at once! check it out via insta @vegan.munchbox\n",
    "or you can get your munch on at munchboxmeals.com.au'''"
   ]
  },
  {
   "cell_type": "markdown",
   "metadata": {},
   "source": [
    "Normalising Text"
   ]
  },
  {
   "cell_type": "code",
   "execution_count": 15,
   "metadata": {},
   "outputs": [],
   "source": [
    "article=article.lower()"
   ]
  },
  {
   "cell_type": "markdown",
   "metadata": {},
   "source": [
    "Removing symbols"
   ]
  },
  {
   "cell_type": "code",
   "execution_count": 16,
   "metadata": {},
   "outputs": [],
   "source": [
    "article = re.sub(r\"(@\\[A-Za-z0-9]+)|([^0-9A-Za-z \\t])|(\\w+:\\/\\/\\S+)|^rt|http.+?\", \"\", article)"
   ]
  },
  {
   "cell_type": "markdown",
   "metadata": {},
   "source": [
    "Removing Stopwords"
   ]
  },
  {
   "cell_type": "code",
   "execution_count": 17,
   "metadata": {},
   "outputs": [
    {
     "name": "stderr",
     "output_type": "stream",
     "text": [
      "C:\\Users\\roshr\\AppData\\Local\\Programs\\Python\\Python310\\Lib\\site-packages\\numpy\\_distributor_init.py:30: UserWarning: loaded more than 1 DLL from .libs:\n",
      "C:\\Users\\roshr\\AppData\\Local\\Programs\\Python\\Python310\\Lib\\site-packages\\numpy\\.libs\\libopenblas.EL2C6PLE4ZYW3ECEVIV3OXXGRN2NRFM2.gfortran-win_amd64.dll\n",
      "C:\\Users\\roshr\\AppData\\Local\\Programs\\Python\\Python310\\Lib\\site-packages\\numpy\\.libs\\libopenblas.FB5AE2TYXYH2IJRDKGDGQ3XBKLKTF43H.gfortran-win_amd64.dll\n",
      "  warnings.warn(\"loaded more than 1 DLL from .libs:\"\n",
      "[nltk_data] Downloading package stopwords to\n",
      "[nltk_data]     C:\\Users\\roshr\\AppData\\Roaming\\nltk_data...\n",
      "[nltk_data]   Package stopwords is already up-to-date!\n"
     ]
    }
   ],
   "source": [
    "import nltk.corpus\n",
    "nltk.download('stopwords')\n",
    "from nltk.corpus import stopwords\n",
    "\n",
    "stop = stopwords.words('english')\n",
    "# text = \"my package from amazon never arrived fix this asap\"\n",
    "article = \" \".join([word for word in article.split() if word not in (stop)])\n",
    "\n",
    "# print(text)"
   ]
  },
  {
   "cell_type": "markdown",
   "metadata": {},
   "source": [
    "Splitting Article into Words"
   ]
  },
  {
   "cell_type": "code",
   "execution_count": 18,
   "metadata": {},
   "outputs": [
    {
     "name": "stderr",
     "output_type": "stream",
     "text": [
      "[nltk_data] Downloading package punkt to\n",
      "[nltk_data]     C:\\Users\\roshr\\AppData\\Roaming\\nltk_data...\n",
      "[nltk_data]   Package punkt is already up-to-date!\n"
     ]
    }
   ],
   "source": [
    "nltk.download('punkt')\n",
    "\n",
    "tokens = nltk.word_tokenize(article)"
   ]
  },
  {
   "cell_type": "code",
   "execution_count": 19,
   "metadata": {},
   "outputs": [
    {
     "name": "stderr",
     "output_type": "stream",
     "text": [
      "[nltk_data] Downloading package wordnet to\n",
      "[nltk_data]     C:\\Users\\roshr\\AppData\\Roaming\\nltk_data...\n",
      "[nltk_data]   Package wordnet is already up-to-date!\n"
     ]
    }
   ],
   "source": [
    "nltk.download('wordnet')\n",
    "from nltk.stem.porter import PorterStemmer\n",
    "from nltk.stem import WordNetLemmatizer\n",
    "\n",
    "stemmer = PorterStemmer()\n",
    "token=[]\n",
    "for word in tokens:\n",
    "    token.append(stemmer.stem(word))"
   ]
  },
  {
   "cell_type": "markdown",
   "metadata": {},
   "source": [
    "Filtering Parts of Speech"
   ]
  },
  {
   "cell_type": "code",
   "execution_count": 20,
   "metadata": {},
   "outputs": [
    {
     "name": "stderr",
     "output_type": "stream",
     "text": [
      "[nltk_data] Downloading package averaged_perceptron_tagger to\n",
      "[nltk_data]     C:\\Users\\roshr\\AppData\\Roaming\\nltk_data...\n",
      "[nltk_data]   Package averaged_perceptron_tagger is already up-to-\n",
      "[nltk_data]       date!\n"
     ]
    }
   ],
   "source": [
    "nltk.download('averaged_perceptron_tagger')\n",
    "\n",
    "pos = nltk.pos_tag(token)"
   ]
  },
  {
   "cell_type": "markdown",
   "metadata": {},
   "source": [
    "Retaining only Nouns and Words"
   ]
  },
  {
   "cell_type": "code",
   "execution_count": 21,
   "metadata": {},
   "outputs": [],
   "source": [
    "filtered = [i[0] for i in pos if i[1]=='NN' or i[1]=='JJ']"
   ]
  },
  {
   "cell_type": "markdown",
   "metadata": {},
   "source": [
    "Word Frequency"
   ]
  },
  {
   "cell_type": "code",
   "execution_count": 22,
   "metadata": {},
   "outputs": [],
   "source": [
    "uni={}\n",
    "for word in filtered:\n",
    "    if word in uni:\n",
    "        uni[word]+=1\n",
    "    else:\n",
    "        uni[word]=1"
   ]
  },
  {
   "cell_type": "code",
   "execution_count": 23,
   "metadata": {},
   "outputs": [
    {
     "data": {
      "text/plain": [
       "{'munchbox': 13,\n",
       " 'meal': 12,\n",
       " 'geelongbas': 1,\n",
       " 'boutiqu': 1,\n",
       " 'prep': 2,\n",
       " 'deliveri': 3,\n",
       " 'servicespecialis': 1,\n",
       " 'artisan': 2,\n",
       " 'vegan': 9,\n",
       " 'vegetarian': 2,\n",
       " 'munchi': 1,\n",
       " 'passion': 5,\n",
       " 'forprovid': 1,\n",
       " 'delici': 2,\n",
       " 'nutriti': 1,\n",
       " 'food': 8,\n",
       " 'ethic': 1,\n",
       " 'sustain': 1,\n",
       " 'afford': 1,\n",
       " 'allmunchbox': 1,\n",
       " 'scratch': 2,\n",
       " 'use': 1,\n",
       " 'balanc': 1,\n",
       " 'local': 4,\n",
       " 'organicveget': 1,\n",
       " 'fruit': 2,\n",
       " 'grain': 1,\n",
       " 'seed': 1,\n",
       " 'homegrown': 1,\n",
       " 'herb': 2,\n",
       " 'callick': 1,\n",
       " 'brain': 1,\n",
       " 'busi': 3,\n",
       " 'thing': 2,\n",
       " 'hey': 1,\n",
       " 'fortefirst': 1,\n",
       " 'explain': 1,\n",
       " 'becam': 1,\n",
       " 'daydream': 1,\n",
       " 'turnedr': 1,\n",
       " 'realli': 2,\n",
       " 'drain': 1,\n",
       " 'job': 2,\n",
       " 'hate': 1,\n",
       " 'major': 1,\n",
       " 'lunchbreaklook': 1,\n",
       " 'struggl': 1,\n",
       " 'tasti': 2,\n",
       " 'good': 1,\n",
       " 'qualiti': 2,\n",
       " 'realsometim': 1,\n",
       " 'real': 2,\n",
       " 'id': 1,\n",
       " 'look': 4,\n",
       " 'hungri': 1,\n",
       " 'day': 2,\n",
       " 'andjokingli': 1,\n",
       " 'announc': 1,\n",
       " 'im': 2,\n",
       " 'open': 2,\n",
       " 'impulsiveannounc': 1,\n",
       " 'quit': 1,\n",
       " 'immedi': 1,\n",
       " 'promis': 1,\n",
       " 'wholeheart': 1,\n",
       " 'soul': 2,\n",
       " 'becom': 1,\n",
       " 'chef': 3,\n",
       " 'whole': 2,\n",
       " 'lot': 1,\n",
       " 'determinationpass': 1,\n",
       " 'support': 1,\n",
       " 'babi': 1,\n",
       " 'iguess': 1,\n",
       " 'littl': 1,\n",
       " 'bit': 1,\n",
       " 'selfish': 1,\n",
       " 'purpos': 1,\n",
       " 'life': 1,\n",
       " 'lackof': 1,\n",
       " 'cuisin': 1,\n",
       " 'geelong': 1,\n",
       " 'scene': 1,\n",
       " 'necess': 1,\n",
       " 'veganvegetarian': 1,\n",
       " 'ive': 1,\n",
       " 'wasnt': 1,\n",
       " 'slowli': 1,\n",
       " 'transit': 1,\n",
       " 'mypass': 1,\n",
       " 'turn': 1,\n",
       " 'true': 1,\n",
       " 'new': 2,\n",
       " 'door': 1,\n",
       " 'experiment': 1,\n",
       " 'thekitchen': 1,\n",
       " 'creat': 2,\n",
       " 'free': 1,\n",
       " 'tast': 2,\n",
       " 'importantli': 1,\n",
       " 'isbett': 1,\n",
       " 'feed': 2,\n",
       " 'view': 1,\n",
       " 'onvegan': 1,\n",
       " 'reader': 1,\n",
       " 'rundown': 1,\n",
       " 'work': 2,\n",
       " 'isan': 1,\n",
       " 'servic': 3,\n",
       " 'provid': 1,\n",
       " 'muncherscan': 1,\n",
       " 'order': 3,\n",
       " 'onlin': 2,\n",
       " 'time': 2,\n",
       " 'friday': 1,\n",
       " 'midnight': 1,\n",
       " 'readi': 3,\n",
       " 'pickup': 2,\n",
       " 'sunday': 1,\n",
       " 'week': 2,\n",
       " 'hour': 2,\n",
       " 'include247': 1,\n",
       " 'eat': 2,\n",
       " 'heat': 2,\n",
       " 'enjoy': 1,\n",
       " 'includ': 2,\n",
       " 'lit': 1,\n",
       " 'flame': 1,\n",
       " 'wealso': 1,\n",
       " 'specialis': 1,\n",
       " 'event': 2,\n",
       " 'corpor': 1,\n",
       " 'cater': 1,\n",
       " 'sweet': 1,\n",
       " 'gather': 2,\n",
       " 'recip': 3,\n",
       " 'andidea': 1,\n",
       " 'constantli': 1,\n",
       " 'idea': 3,\n",
       " 'inspir': 3,\n",
       " 'ihav': 1,\n",
       " 'collect': 1,\n",
       " 'paper': 1,\n",
       " 'scrap': 1,\n",
       " 'scribbl': 1,\n",
       " 'notebook': 1,\n",
       " 'next': 1,\n",
       " 'tomi': 1,\n",
       " 'case': 1,\n",
       " 'dream': 1,\n",
       " 'moodboard': 1,\n",
       " 'futur': 3,\n",
       " 'menu': 5,\n",
       " 'list': 1,\n",
       " 'amess': 1,\n",
       " 'much': 2,\n",
       " 'tradit': 1,\n",
       " 'nonvegan': 2,\n",
       " 'havebeen': 1,\n",
       " 'fortun': 1,\n",
       " 'enough': 1,\n",
       " 'alongsid': 1,\n",
       " 'amaz': 1,\n",
       " 'taughtand': 1,\n",
       " 'mumma': 1,\n",
       " 'sister': 1,\n",
       " 'huge': 1,\n",
       " 'foodi': 1,\n",
       " 'alwayscom': 1,\n",
       " 'insan': 1,\n",
       " 'ultim': 1,\n",
       " 'madefrom': 1,\n",
       " 'tri': 2,\n",
       " 'test': 1,\n",
       " 'perfect': 3,\n",
       " 'andorgan': 1,\n",
       " 'cut': 1,\n",
       " 'commit': 1,\n",
       " 'commun': 1,\n",
       " 'base': 1,\n",
       " 'seasonalproduc': 1,\n",
       " 'sourc': 1,\n",
       " 'organ': 1,\n",
       " 'farmer': 1,\n",
       " 'whosuppli': 1,\n",
       " 'ingredi': 2,\n",
       " 'lovingli': 1,\n",
       " 'grow': 1,\n",
       " 'munchboxexpand': 1,\n",
       " 'veggi': 1,\n",
       " 'garden': 1,\n",
       " 'pretti': 1,\n",
       " 'crazi': 1,\n",
       " 'exot': 1,\n",
       " 'vege': 1,\n",
       " 'whattyp': 1,\n",
       " 'peopl': 1,\n",
       " 'suit': 1,\n",
       " 'poor': 1,\n",
       " 'buthungri': 1,\n",
       " 'care': 2,\n",
       " 'bodi': 1,\n",
       " 'frozen': 1,\n",
       " 'full': 1,\n",
       " 'crap': 1,\n",
       " 'fresh': 1,\n",
       " 'flavour': 1,\n",
       " 'love': 1,\n",
       " 'mealso': 1,\n",
       " 'dont': 2,\n",
       " 'breaki': 1,\n",
       " 'lunch': 1,\n",
       " 'tea': 1,\n",
       " 'pick': 1,\n",
       " 'cook': 1,\n",
       " 'isnt': 1,\n",
       " 'orvegan': 1,\n",
       " 'healthi': 1,\n",
       " 'altern': 1,\n",
       " 'customord': 1,\n",
       " 'everyth': 1,\n",
       " 'ye': 1,\n",
       " 'fulli': 1,\n",
       " 'customis': 1,\n",
       " 'suitdiet': 1,\n",
       " 'tomato': 1,\n",
       " 'gluten': 1,\n",
       " 'intoler': 1,\n",
       " 'addor': 1,\n",
       " 'remov': 1,\n",
       " 'extra': 1,\n",
       " 'howev': 1,\n",
       " 'youd': 1,\n",
       " 'ourchef': 1,\n",
       " 'special': 1,\n",
       " 'happi': 1,\n",
       " 'cancustomis': 1,\n",
       " 'personalis': 1,\n",
       " 'plan': 2,\n",
       " 'big': 1,\n",
       " 'expectan': 1,\n",
       " 'everchang': 2,\n",
       " 'mind': 1,\n",
       " 'incorporatingmenulog': 1,\n",
       " 'uber': 1,\n",
       " 'expand': 1,\n",
       " 'trade': 1,\n",
       " 'serviceloc': 1,\n",
       " 'munch': 2,\n",
       " 'mobil': 1,\n",
       " 'attendfestiv': 1,\n",
       " 'market': 1,\n",
       " 'sooo': 1,\n",
       " 'manysurpris': 1,\n",
       " 'yall': 1,\n",
       " 'cant': 1,\n",
       " 'spoil': 1,\n",
       " 'check': 1,\n",
       " 'insta': 1,\n",
       " 'veganmunchboxor': 1,\n",
       " 'munchboxmealscomau': 1}"
      ]
     },
     "execution_count": 23,
     "metadata": {},
     "output_type": "execute_result"
    }
   ],
   "source": [
    "uni"
   ]
  },
  {
   "cell_type": "markdown",
   "metadata": {},
   "source": [
    "Unique Words in Article"
   ]
  },
  {
   "cell_type": "code",
   "execution_count": 24,
   "metadata": {},
   "outputs": [
    {
     "data": {
      "text/plain": [
       "261"
      ]
     },
     "execution_count": 24,
     "metadata": {},
     "output_type": "execute_result"
    }
   ],
   "source": [
    "unique=list(set(filtered))\n",
    "len(unique)"
   ]
  },
  {
   "cell_type": "markdown",
   "metadata": {},
   "source": [
    "Ranking"
   ]
  },
  {
   "cell_type": "code",
   "execution_count": 25,
   "metadata": {},
   "outputs": [
    {
     "ename": "SyntaxError",
     "evalue": "incomplete input (2641867713.py, line 1)",
     "output_type": "error",
     "traceback": [
      "\u001b[1;36m  Input \u001b[1;32mIn [25]\u001b[1;36m\u001b[0m\n\u001b[1;33m    for i in uni.keys:\u001b[0m\n\u001b[1;37m                      ^\u001b[0m\n\u001b[1;31mSyntaxError\u001b[0m\u001b[1;31m:\u001b[0m incomplete input\n"
     ]
    }
   ],
   "source": [
    "for i in uni.keys:"
   ]
  }
 ],
 "metadata": {
  "kernelspec": {
   "display_name": "Python 3.10.5 64-bit",
   "language": "python",
   "name": "python3"
  },
  "language_info": {
   "codemirror_mode": {
    "name": "ipython",
    "version": 3
   },
   "file_extension": ".py",
   "mimetype": "text/x-python",
   "name": "python",
   "nbconvert_exporter": "python",
   "pygments_lexer": "ipython3",
   "version": "3.10.5"
  },
  "orig_nbformat": 4,
  "vscode": {
   "interpreter": {
    "hash": "81a5c4060a85b93e5abdc9559743780c516e67be92a552c78eb67f27eff09551"
   }
  }
 },
 "nbformat": 4,
 "nbformat_minor": 2
}
