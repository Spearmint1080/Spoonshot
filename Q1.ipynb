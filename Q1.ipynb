{
 "cells": [
  {
   "cell_type": "markdown",
   "metadata": {},
   "source": [
    "Regex"
   ]
  },
  {
   "cell_type": "code",
   "execution_count": null,
   "metadata": {},
   "outputs": [],
   "source": [
    "import re"
   ]
  },
  {
   "cell_type": "markdown",
   "metadata": {},
   "source": [
    "Ingredients Import"
   ]
  },
  {
   "cell_type": "code",
   "execution_count": null,
   "metadata": {},
   "outputs": [],
   "source": [
    "ingredients=['Ambrette Seed',\n",
    "'Apple Cinnamon Granola',\n",
    "'Arizona Seasoning',\n",
    "'Americano Coffee',\n",
    "'Baby Abalone',\n",
    "'Cadbury Double Decker Chocolate Bar',\n",
    "'Campari Tomato',\n",
    "'Celery Soup',\n",
    "'Chia Meal',\n",
    "'Crunch Bars',\n",
    "'Cardamom',\n",
    "'Giardiniera',\n",
    "'Hog Maw',\n",
    "'Mccormick Montreal Steak Seasoning',\n",
    "'Muesli',\n",
    "'Mulberry',\n",
    "'Munch Chocolate',\n",
    "'Murukku Packet',\n",
    "'Mango',\n",
    "'Organic Maize',\n",
    "'Organic Peruvian Groundcherry',\n",
    "'Organic Tartar Cream',\n",
    "'Orange Extract',\n",
    "'Pickled Cauliflower',\n",
    "'Pork Chump Chops',\n",
    "'Pork Lungs',\n",
    "'Pork Tripe',\n",
    "'Peanut Butter',\n",
    "'Smokies Sausage',\n",
    "'Snickers Spread',\n",
    "'Strawberry Gelatin',\n",
    "'Salmon'\n",
    "'Tomato',\n",
    "'Tamarind',\n",
    "'Vegan Carob Chips',\n",
    "'Vegan Chicken Strips',\n",
    "'Vegan Chorizo',\n",
    "'Vegan Marshmallow',\n",
    "'Vegan Puff Pastry Sheet',\n",
    "'Vegan Semisweet Chocolate Chips',\n",
    "'Vegan White Cake',\n",
    "'Vegetable Stock',\n",
    "'Vinegar']"
   ]
  },
  {
   "cell_type": "code",
   "execution_count": null,
   "metadata": {},
   "outputs": [],
   "source": [
    "ingredients = [i.lower() for i in ingredients]"
   ]
  },
  {
   "cell_type": "markdown",
   "metadata": {},
   "source": [
    "Splitting Ingredients into Groups"
   ]
  },
  {
   "cell_type": "code",
   "execution_count": null,
   "metadata": {},
   "outputs": [],
   "source": [
    "ing={}"
   ]
  },
  {
   "cell_type": "markdown",
   "metadata": {},
   "source": [
    "Vegan"
   ]
  },
  {
   "cell_type": "code",
   "execution_count": null,
   "metadata": {},
   "outputs": [],
   "source": [
    "vegan = [i for i in ingredients if 'vegan' in i]\n",
    "ing['vegan']=vegan"
   ]
  },
  {
   "cell_type": "markdown",
   "metadata": {},
   "source": [
    "Non-Vegetarian"
   ]
  },
  {
   "cell_type": "code",
   "execution_count": null,
   "metadata": {},
   "outputs": [],
   "source": [
    "nvg = [i for i in ingredients if 'Pork' in i]\n",
    "nvg.append('Salmon')\n",
    "nvg.append('Smokies Sausage')\n",
    "nvg.append('Mccormick Montreal Steak Seasoning')\n",
    "nvg.append('Hog Maw')\n",
    "nvg = [i.lower() for i in nvg]\n",
    "ing['nvg']=nvg"
   ]
  },
  {
   "cell_type": "markdown",
   "metadata": {},
   "source": [
    "Seeds"
   ]
  },
  {
   "cell_type": "code",
   "execution_count": null,
   "metadata": {},
   "outputs": [],
   "source": [
    "seed=[i for i in ingredients if 'Seed' in i]\n",
    "seed.append('Cardamom')\n",
    "seed.append('Chia Meal')\n",
    "seed = [i.lower() for i in seed]\n",
    "ing['seed']=seed"
   ]
  },
  {
   "cell_type": "markdown",
   "metadata": {},
   "source": [
    "Grains"
   ]
  },
  {
   "cell_type": "code",
   "execution_count": null,
   "metadata": {},
   "outputs": [],
   "source": [
    "grains=['Apple Cinnamon Granola','Organic Maize','Museli']\n",
    "grains = [i.lower() for i in grains]\n",
    "ing['grains']=grains"
   ]
  },
  {
   "cell_type": "markdown",
   "metadata": {},
   "source": [
    "Fruits"
   ]
  },
  {
   "cell_type": "code",
   "execution_count": null,
   "metadata": {},
   "outputs": [],
   "source": [
    "fruits=['Campari Tomato','Mango','Tomato','Organic Peruvian Groundcherry','Orange Extract','Mulberry','Tamarind']\n",
    "fruits = [i.lower() for i in fruits]\n",
    "ing['fruits']=fruits"
   ]
  },
  {
   "cell_type": "markdown",
   "metadata": {},
   "source": [
    "Vegetables"
   ]
  },
  {
   "cell_type": "code",
   "execution_count": null,
   "metadata": {},
   "outputs": [],
   "source": [
    "veg=['Celery Soup','Giardiniera','Vegetable Stock','Pickled Cauliflower']\n",
    "veg = [i.lower() for i in veg]\n",
    "ing['veg']=veg"
   ]
  },
  {
   "cell_type": "markdown",
   "metadata": {},
   "source": [
    "Condiments"
   ]
  },
  {
   "cell_type": "code",
   "execution_count": null,
   "metadata": {},
   "outputs": [],
   "source": [
    "con=['Peanut Butter','Strawberry Gelatin','Snickers Spread','Vinegar','Organic Tartar Cream','Mccormick Montreal Steak Seasoning']\n",
    "con = [i.lower() for i in con]\n",
    "ing['con']=con"
   ]
  },
  {
   "cell_type": "markdown",
   "metadata": {},
   "source": [
    "Snacks"
   ]
  },
  {
   "cell_type": "code",
   "execution_count": null,
   "metadata": {},
   "outputs": [],
   "source": [
    "sna=['Cadbury Double Decker Chocolate Bar','Munch Chocolate','Murukku Packet','Americano Coffee','Crunch Bars',]\n",
    "sna = [i.lower() for i in sna]\n",
    "ing['sna']=sna"
   ]
  },
  {
   "cell_type": "markdown",
   "metadata": {},
   "source": [
    "All Ingredients"
   ]
  },
  {
   "cell_type": "code",
   "execution_count": null,
   "metadata": {},
   "outputs": [],
   "source": [
    "ding={}\n",
    "for i in ing:\n",
    "    for j in ing[i]:\n",
    "        ding[j]=0"
   ]
  },
  {
   "cell_type": "markdown",
   "metadata": {},
   "source": [
    "Importing Article"
   ]
  },
  {
   "cell_type": "code",
   "execution_count": null,
   "metadata": {},
   "outputs": [],
   "source": [
    "article='''munchbox meals munchbox is a geelong-based boutique meal prep and delivery service,\n",
    "specialising in artisan vegan and vegetarian meals and munchies. with a passion for\n",
    "providing delicious and nutritious food that is ethical, sustainable and affordable, all\n",
    "munchbox meals are made from scratch using a balance of the freshest local and organic\n",
    "vegetables and fruit, grains, seeds and nuts and homegrown herbs. we chat to eden callick –\n",
    "the brains behind the business – about all things munchbox. hey! thanks for chatting to forte!\n",
    "first up, can you explain how munchbox became to be? munchbox was a daydream turned\n",
    "reality. i was in a really draining job i hated, and would spend the majority of my lunch-break\n",
    "looking for vegan food. the struggle to find a tasty, good quality, vegan meal is real.\n",
    "sometimes it was so real i’d just give up looking, and go hungry. one day i hungrily and\n",
    "jokingly announced, ‘i’m going to open my own vegan food business’ and with that impulsive\n",
    "announcement, i quit my job almost immediately, and promised myself i would put my whole\n",
    "heart and soul in to becoming the best vegan chef i can be. with a whole lot of determination,\n",
    "passion and support from those around me, munchbox was born and is now my baby! i\n",
    "guess a little bit of selfishness for me to have passion and purpose in life, as well as the lack\n",
    "of real quality vegan cuisine on the geelong food scene is really how munchbox came to be\n",
    "– out of necessity. where did your passion for vegan/vegetarian food come from? i’ve always\n",
    "had a love and passion for food, but it wasn’t until i slowly transitioned to vegan that my\n",
    "passion turned into a true obsession! it opened a whole new door for experimentation in the\n",
    "kitchen; i want to create cruelty free food that tastes and looks better, but most importantly is\n",
    "better for you! nothing makes me happier then feeding people and changing their views on\n",
    "vegan food. can you give our readers a run-down of how ‘munchbox’ works? munchbox is\n",
    "an artisan meal prep and delivery service, providing chef made meals to you. our munchers\n",
    "can order online any time before friday midnight, with meals being ready for pick-up or\n",
    "delivery on sunday. ready for the week ahead! these hours will soon be changing to include\n",
    "24/7 online ordering, with pick-up and delivery between 7am-7pm seven days a week. all\n",
    "meals come ready to eat or heat; those that are best enjoyed heated include a lit flame! we\n",
    "also specialise in events and corporate catering; so, if there’s a bunch that’s got the munch,\n",
    "we’re here to feed your sweet souls! where have you gathered most of your recipes and\n",
    "ideas from? i’m constantly gathering ideas and inspiration from anywhere and everywhere! i\n",
    "have a collection of paper scraps with scribbled recipes, and sleep with a notebook next to\n",
    "my bed just in case i dream up a new idea. i have mood-boards, and future menu lists. it’s a\n",
    "mess really! i find so much inspiration and ideas from traditional non-vegan meals, and have\n",
    "been fortunate enough to work alongside some amazing non-vegan chefs who have (taught)\n",
    "and inspired me incredibly. my mumma and sister, who are huge vegan foodies, are always\n",
    "coming up with insane recipes for me as well. but each recipe is ultimately my own, made\n",
    "from scratch, tried and tested until it’s perfected. how do you determine what local and\n",
    "organic ingredients make the cut? we are passionately committed to sustainability and\n",
    "supporting our local community. our menus are always based around the freshest seasonal\n",
    "produce, sourced from local organic farmers, as well as other artisan vegan businesses who\n",
    "supply some of our ingredients. we also lovingly grow all our own herbs, and as munchbox\n",
    "expands so will our veggie garden; to include some pretty crazy exotic fruit and vege! what\n",
    "type of people does this service suit? munchbox is perfect for those who are time poor, but\n",
    "hungry, and care what they put in to their body. looking for a delicious and nutritious meal,\n",
    "that isn’t frozen or full of crap. we put all the freshness, flavour, love and care into each meal,\n",
    "so you don’t have to! breaky, lunch, or tea, pick up or delivery, we’ve got you covered so you\n",
    "don’t have to think about cooking a thing! munchbox isn’t exclusively for vegetarians or\n",
    "vegans, but is perfect for those looking to try a tasty healthy alternative! do you do custom\n",
    "orders? or is everything off the set menu? yes! all our meals are fully customisable to suit\n",
    "diet and taste! don’t like tomato? just let us know! gluten intolerant? we got you! you can add\n",
    "or remove any ingredients and extras in our meals when you order. however, if you’d like our\n",
    "chefs to create something extra special just for you, we’re more than happy to! we can\n",
    "customise personalised menus, meal plans and munchboxes just for you! where are you\n",
    "hoping to take munchbox in future? munchbox has big plans for the future! you can expect\n",
    "an ever-changing menu (to keep up with my ever-changing mind). we’ll be incorporating\n",
    "menulog and uber eats as apart of our service, and expanding trading hours and service\n",
    "locations in the very near future. there may also be plans for ‘munch mobile’ to attend\n",
    "festivals, markets, and events.. but i can’t give too much away! we have sooo many\n",
    "surprises for ya’ll, but i can’t spoil them all at once! check it out via insta @vegan.munchbox\n",
    "or you can get your munch on at munchboxmeals.com.au'''"
   ]
  },
  {
   "cell_type": "markdown",
   "metadata": {},
   "source": [
    "Normalising Text"
   ]
  },
  {
   "cell_type": "code",
   "execution_count": null,
   "metadata": {},
   "outputs": [],
   "source": [
    "article=article.lower()"
   ]
  },
  {
   "cell_type": "markdown",
   "metadata": {},
   "source": [
    "Removing symbols"
   ]
  },
  {
   "cell_type": "code",
   "execution_count": null,
   "metadata": {},
   "outputs": [],
   "source": [
    "article = re.sub(r\"(@\\[A-Za-z0-9]+)|([^0-9A-Za-z \\t])|(\\w+:\\/\\/\\S+)|^rt|http.+?\", \"\", article)"
   ]
  },
  {
   "cell_type": "markdown",
   "metadata": {},
   "source": [
    "Removing Stopwords"
   ]
  },
  {
   "cell_type": "code",
   "execution_count": null,
   "metadata": {},
   "outputs": [],
   "source": [
    "import nltk.corpus\n",
    "nltk.download('stopwords')\n",
    "from nltk.corpus import stopwords\n",
    "\n",
    "stop = stopwords.words('english')\n",
    "article = \" \".join([word for word in article.split() if word not in (stop)])\n"
   ]
  },
  {
   "cell_type": "markdown",
   "metadata": {},
   "source": [
    "Splitting Article into Words"
   ]
  },
  {
   "cell_type": "code",
   "execution_count": null,
   "metadata": {},
   "outputs": [],
   "source": [
    "nltk.download('punkt')\n",
    "nltk.download('omw-1.4')\n",
    "\n",
    "tokens = nltk.word_tokenize(article)"
   ]
  },
  {
   "cell_type": "code",
   "execution_count": null,
   "metadata": {},
   "outputs": [],
   "source": [
    "nltk.download('wordnet')\n",
    "from nltk.stem.porter import PorterStemmer\n",
    "from nltk.stem import WordNetLemmatizer\n",
    "\n",
    "stemmer = PorterStemmer()\n",
    "token=[]\n",
    "for word in tokens:\n",
    "    token.append(stemmer.stem(word))"
   ]
  },
  {
   "cell_type": "markdown",
   "metadata": {},
   "source": [
    "Filtering Parts of Speech"
   ]
  },
  {
   "cell_type": "code",
   "execution_count": null,
   "metadata": {},
   "outputs": [],
   "source": [
    "nltk.download('averaged_perceptron_tagger')\n",
    "\n",
    "pos = nltk.pos_tag(token)"
   ]
  },
  {
   "cell_type": "markdown",
   "metadata": {},
   "source": [
    "Retaining only Nouns and Words"
   ]
  },
  {
   "cell_type": "code",
   "execution_count": null,
   "metadata": {},
   "outputs": [],
   "source": [
    "filtered = [i[0] for i in pos if i[1]=='NN' or i[1]=='JJ']"
   ]
  },
  {
   "cell_type": "markdown",
   "metadata": {},
   "source": [
    "Word Frequency"
   ]
  },
  {
   "cell_type": "code",
   "execution_count": null,
   "metadata": {},
   "outputs": [],
   "source": [
    "uni={}\n",
    "for word in filtered:\n",
    "    if word in uni:\n",
    "        uni[word]+=1\n",
    "    else:\n",
    "        uni[word]=1"
   ]
  },
  {
   "cell_type": "markdown",
   "metadata": {},
   "source": [
    "Unique Words in Article"
   ]
  },
  {
   "cell_type": "code",
   "execution_count": null,
   "metadata": {},
   "outputs": [],
   "source": [
    "unique=list(set(filtered))\n",
    "len(unique)"
   ]
  },
  {
   "cell_type": "markdown",
   "metadata": {},
   "source": [
    "Ranking"
   ]
  },
  {
   "cell_type": "code",
   "execution_count": null,
   "metadata": {},
   "outputs": [],
   "source": [
    "from nltk.corpus import wordnet\n",
    "for k in filtered:\n",
    "    for i in ding:\n",
    "        w=i.split()\n",
    "        for j in w:\n",
    "            try:\n",
    "                s1=wordnet.synset(j+\".n.01\")\n",
    "                s2=wordnet.synset(k+\".n.01\")\n",
    "                fl=s1.wup_similarity(s2)\n",
    "                if(fl>=0.6 ): \n",
    "                    ding[i]+=fl*uni[k]\n",
    "            except:\n",
    "                continue"
   ]
  },
  {
   "cell_type": "code",
   "execution_count": null,
   "metadata": {},
   "outputs": [],
   "source": [
    "final=[(i,ding[i]) for i in ding]\n",
    "final.sort(key= lambda x:x[1],reverse=True)"
   ]
  },
  {
   "cell_type": "code",
   "execution_count": null,
   "metadata": {},
   "outputs": [],
   "source": [
    "for i in final:\n",
    "    print(i[0])"
   ]
  }
 ],
 "metadata": {
  "kernelspec": {
   "display_name": "Python 3.10.5 64-bit",
   "language": "python",
   "name": "python3"
  },
  "language_info": {
   "codemirror_mode": {
    "name": "ipython",
    "version": 3
   },
   "file_extension": ".py",
   "mimetype": "text/x-python",
   "name": "python",
   "nbconvert_exporter": "python",
   "pygments_lexer": "ipython3",
   "version": "3.10.5"
  },
  "orig_nbformat": 4,
  "vscode": {
   "interpreter": {
    "hash": "81a5c4060a85b93e5abdc9559743780c516e67be92a552c78eb67f27eff09551"
   }
  }
 },
 "nbformat": 4,
 "nbformat_minor": 2
}
